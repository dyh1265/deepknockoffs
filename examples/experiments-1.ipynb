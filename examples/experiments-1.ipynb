{
 "cells": [
  {
   "cell_type": "markdown",
   "metadata": {},
   "source": [
    "# Numerical experiments I (training)\n",
    "\n",
    "### Notebook written by Matteo Sesia and Yaniv Romano\n",
    "#### Stanford University, Department of Statistics\n",
    "#### Last updated on: November 19, 2018\n",
    "\n",
    "The purpose of this notebook is to allow the numerical experiments described in the paper to be reproduced easily.\n",
    "Running this code may take a few hours on a graphical graphical processing unit."
   ]
  },
  {
   "cell_type": "markdown",
   "metadata": {},
   "source": [
    "## Load the required libraries"
   ]
  },
  {
   "cell_type": "code",
   "execution_count": 3,
   "outputs": [
    {
     "ename": "RuntimeError",
     "evalue": "module compiled against API version 0xe but this version of numpy is 0xd",
     "output_type": "error",
     "traceback": [
      "\u001B[0;31m---------------------------------------------------------------------------\u001B[0m",
      "\u001B[0;31mRuntimeError\u001B[0m                              Traceback (most recent call last)",
      "\u001B[0;31mRuntimeError\u001B[0m: module compiled against API version 0xe but this version of numpy is 0xd"
     ]
    },
    {
     "ename": "ImportError",
     "evalue": "numpy.core.multiarray failed to import",
     "output_type": "error",
     "traceback": [
      "\u001B[0;31m---------------------------------------------------------------------------\u001B[0m",
      "\u001B[0;31mImportError\u001B[0m                               Traceback (most recent call last)",
      "\u001B[0;32m/tmp/ipykernel_20839/3264505034.py\u001B[0m in \u001B[0;36m<module>\u001B[0;34m\u001B[0m\n\u001B[1;32m      1\u001B[0m \u001B[0;32mimport\u001B[0m \u001B[0mnumpy\u001B[0m \u001B[0;32mas\u001B[0m \u001B[0mnp\u001B[0m\u001B[0;34m\u001B[0m\u001B[0;34m\u001B[0m\u001B[0m\n\u001B[0;32m----> 2\u001B[0;31m \u001B[0;32mfrom\u001B[0m \u001B[0mDeepKnockoffs\u001B[0m \u001B[0;32mimport\u001B[0m \u001B[0mKnockoffMachine\u001B[0m\u001B[0;34m\u001B[0m\u001B[0;34m\u001B[0m\u001B[0m\n\u001B[0m\u001B[1;32m      3\u001B[0m \u001B[0;32mfrom\u001B[0m \u001B[0mDeepKnockoffs\u001B[0m \u001B[0;32mimport\u001B[0m \u001B[0mGaussianKnockoffs\u001B[0m\u001B[0;34m\u001B[0m\u001B[0;34m\u001B[0m\u001B[0m\n\u001B[1;32m      4\u001B[0m \u001B[0;32mimport\u001B[0m \u001B[0mdata\u001B[0m\u001B[0;34m\u001B[0m\u001B[0;34m\u001B[0m\u001B[0m\n\u001B[1;32m      5\u001B[0m \u001B[0;32mimport\u001B[0m \u001B[0mparameters\u001B[0m\u001B[0;34m\u001B[0m\u001B[0;34m\u001B[0m\u001B[0m\n",
      "\u001B[0;32m<frozen zipimport>\u001B[0m in \u001B[0;36mload_module\u001B[0;34m(self, fullname)\u001B[0m\n",
      "\u001B[0;32m~/.local/lib/python3.9/site-packages/DeepKnockoffs-0.1.0-py3.9.egg/DeepKnockoffs/__init__.py\u001B[0m in \u001B[0;36m<module>\u001B[0;34m\u001B[0m\n\u001B[1;32m      3\u001B[0m \u001B[0;34m\u001B[0m\u001B[0m\n\u001B[1;32m      4\u001B[0m \u001B[0;32mfrom\u001B[0m \u001B[0;34m.\u001B[0m\u001B[0mmachine\u001B[0m \u001B[0;32mimport\u001B[0m \u001B[0mKnockoffMachine\u001B[0m\u001B[0;34m\u001B[0m\u001B[0;34m\u001B[0m\u001B[0m\n\u001B[0;32m----> 5\u001B[0;31m \u001B[0;32mfrom\u001B[0m \u001B[0;34m.\u001B[0m\u001B[0mgaussian\u001B[0m \u001B[0;32mimport\u001B[0m \u001B[0mGaussianKnockoffs\u001B[0m\u001B[0;34m\u001B[0m\u001B[0;34m\u001B[0m\u001B[0m\n\u001B[0m",
      "\u001B[0;32m<frozen zipimport>\u001B[0m in \u001B[0;36mload_module\u001B[0;34m(self, fullname)\u001B[0m\n",
      "\u001B[0;32m~/.local/lib/python3.9/site-packages/DeepKnockoffs-0.1.0-py3.9.egg/DeepKnockoffs/gaussian.py\u001B[0m in \u001B[0;36m<module>\u001B[0;34m\u001B[0m\n\u001B[1;32m      1\u001B[0m \u001B[0;32mimport\u001B[0m \u001B[0mnumpy\u001B[0m \u001B[0;32mas\u001B[0m \u001B[0mnp\u001B[0m\u001B[0;34m\u001B[0m\u001B[0;34m\u001B[0m\u001B[0m\n\u001B[0;32m----> 2\u001B[0;31m \u001B[0;32mimport\u001B[0m \u001B[0mcvxpy\u001B[0m \u001B[0;32mas\u001B[0m \u001B[0mcvx\u001B[0m\u001B[0;34m\u001B[0m\u001B[0;34m\u001B[0m\u001B[0m\n\u001B[0m\u001B[1;32m      3\u001B[0m \u001B[0;32mfrom\u001B[0m \u001B[0mscipy\u001B[0m \u001B[0;32mimport\u001B[0m \u001B[0mlinalg\u001B[0m\u001B[0;34m\u001B[0m\u001B[0;34m\u001B[0m\u001B[0m\n\u001B[1;32m      4\u001B[0m \u001B[0;32mimport\u001B[0m \u001B[0mwarnings\u001B[0m\u001B[0;34m\u001B[0m\u001B[0;34m\u001B[0m\u001B[0m\n\u001B[1;32m      5\u001B[0m \u001B[0;34m\u001B[0m\u001B[0m\n",
      "\u001B[0;32m~/.local/lib/python3.9/site-packages/cvxpy-1.1.17-py3.9-linux-x86_64.egg/cvxpy/__init__.py\u001B[0m in \u001B[0;36m<module>\u001B[0;34m\u001B[0m\n\u001B[1;32m     25\u001B[0m \u001B[0;32mfrom\u001B[0m \u001B[0mcvxpy\u001B[0m\u001B[0;34m.\u001B[0m\u001B[0mexpressions\u001B[0m\u001B[0;34m.\u001B[0m\u001B[0mvariable\u001B[0m \u001B[0;32mimport\u001B[0m \u001B[0mVariable\u001B[0m\u001B[0;34m\u001B[0m\u001B[0;34m\u001B[0m\u001B[0m\n\u001B[1;32m     26\u001B[0m \u001B[0;32mfrom\u001B[0m \u001B[0mcvxpy\u001B[0m\u001B[0;34m.\u001B[0m\u001B[0mproblems\u001B[0m\u001B[0;34m.\u001B[0m\u001B[0mobjective\u001B[0m \u001B[0;32mimport\u001B[0m \u001B[0mMaximize\u001B[0m\u001B[0;34m,\u001B[0m \u001B[0mMinimize\u001B[0m\u001B[0;34m\u001B[0m\u001B[0;34m\u001B[0m\u001B[0m\n\u001B[0;32m---> 27\u001B[0;31m \u001B[0;32mfrom\u001B[0m \u001B[0mcvxpy\u001B[0m\u001B[0;34m.\u001B[0m\u001B[0mproblems\u001B[0m\u001B[0;34m.\u001B[0m\u001B[0mproblem\u001B[0m \u001B[0;32mimport\u001B[0m \u001B[0mProblem\u001B[0m\u001B[0;34m\u001B[0m\u001B[0;34m\u001B[0m\u001B[0m\n\u001B[0m\u001B[1;32m     28\u001B[0m \u001B[0;32mfrom\u001B[0m \u001B[0mcvxpy\u001B[0m\u001B[0;34m.\u001B[0m\u001B[0mtransforms\u001B[0m \u001B[0;32mimport\u001B[0m \u001B[0mlinearize\u001B[0m\u001B[0;34m,\u001B[0m \u001B[0mpartial_optimize\u001B[0m\u001B[0;34m,\u001B[0m \u001B[0msuppfunc\u001B[0m\u001B[0;34m\u001B[0m\u001B[0;34m\u001B[0m\u001B[0m\n\u001B[1;32m     29\u001B[0m \u001B[0;32mfrom\u001B[0m \u001B[0mcvxpy\u001B[0m\u001B[0;34m.\u001B[0m\u001B[0mreductions\u001B[0m \u001B[0;32mimport\u001B[0m \u001B[0;34m*\u001B[0m\u001B[0;34m\u001B[0m\u001B[0;34m\u001B[0m\u001B[0m\n",
      "\u001B[0;32m~/.local/lib/python3.9/site-packages/cvxpy-1.1.17-py3.9-linux-x86_64.egg/cvxpy/problems/problem.py\u001B[0m in \u001B[0;36m<module>\u001B[0;34m\u001B[0m\n\u001B[1;32m     33\u001B[0m \u001B[0;32mfrom\u001B[0m \u001B[0mcvxpy\u001B[0m\u001B[0;34m.\u001B[0m\u001B[0minterface\u001B[0m\u001B[0;34m.\u001B[0m\u001B[0mmatrix_utilities\u001B[0m \u001B[0;32mimport\u001B[0m \u001B[0mscalar_value\u001B[0m\u001B[0;34m\u001B[0m\u001B[0;34m\u001B[0m\u001B[0m\n\u001B[1;32m     34\u001B[0m \u001B[0;32mfrom\u001B[0m \u001B[0mcvxpy\u001B[0m\u001B[0;34m.\u001B[0m\u001B[0mproblems\u001B[0m\u001B[0;34m.\u001B[0m\u001B[0mobjective\u001B[0m \u001B[0;32mimport\u001B[0m \u001B[0mMaximize\u001B[0m\u001B[0;34m,\u001B[0m \u001B[0mMinimize\u001B[0m\u001B[0;34m\u001B[0m\u001B[0;34m\u001B[0m\u001B[0m\n\u001B[0;32m---> 35\u001B[0;31m \u001B[0;32mfrom\u001B[0m \u001B[0mcvxpy\u001B[0m\u001B[0;34m.\u001B[0m\u001B[0mreductions\u001B[0m \u001B[0;32mimport\u001B[0m \u001B[0mInverseData\u001B[0m\u001B[0;34m\u001B[0m\u001B[0;34m\u001B[0m\u001B[0m\n\u001B[0m\u001B[1;32m     36\u001B[0m \u001B[0;32mfrom\u001B[0m \u001B[0mcvxpy\u001B[0m\u001B[0;34m.\u001B[0m\u001B[0mreductions\u001B[0m\u001B[0;34m.\u001B[0m\u001B[0mchain\u001B[0m \u001B[0;32mimport\u001B[0m \u001B[0mChain\u001B[0m\u001B[0;34m\u001B[0m\u001B[0;34m\u001B[0m\u001B[0m\n\u001B[1;32m     37\u001B[0m \u001B[0;32mfrom\u001B[0m \u001B[0mcvxpy\u001B[0m\u001B[0;34m.\u001B[0m\u001B[0mreductions\u001B[0m\u001B[0;34m.\u001B[0m\u001B[0mdgp2dcp\u001B[0m\u001B[0;34m.\u001B[0m\u001B[0mdgp2dcp\u001B[0m \u001B[0;32mimport\u001B[0m \u001B[0mDgp2Dcp\u001B[0m\u001B[0;34m\u001B[0m\u001B[0;34m\u001B[0m\u001B[0m\n",
      "\u001B[0;32m~/.local/lib/python3.9/site-packages/cvxpy-1.1.17-py3.9-linux-x86_64.egg/cvxpy/reductions/__init__.py\u001B[0m in \u001B[0;36m<module>\u001B[0;34m\u001B[0m\n\u001B[1;32m     30\u001B[0m \u001B[0;32mfrom\u001B[0m \u001B[0mcvxpy\u001B[0m\u001B[0;34m.\u001B[0m\u001B[0mreductions\u001B[0m\u001B[0;34m.\u001B[0m\u001B[0mqp2quad_form\u001B[0m\u001B[0;34m.\u001B[0m\u001B[0mqp2symbolic_qp\u001B[0m \u001B[0;32mimport\u001B[0m \u001B[0mQp2SymbolicQp\u001B[0m\u001B[0;34m\u001B[0m\u001B[0;34m\u001B[0m\u001B[0m\n\u001B[1;32m     31\u001B[0m \u001B[0;32mfrom\u001B[0m \u001B[0mcvxpy\u001B[0m\u001B[0;34m.\u001B[0m\u001B[0mreductions\u001B[0m\u001B[0;34m.\u001B[0m\u001B[0mqp2quad_form\u001B[0m\u001B[0;34m.\u001B[0m\u001B[0mqp_matrix_stuffing\u001B[0m \u001B[0;32mimport\u001B[0m \u001B[0mQpMatrixStuffing\u001B[0m\u001B[0;34m\u001B[0m\u001B[0;34m\u001B[0m\u001B[0m\n\u001B[0;32m---> 32\u001B[0;31m \u001B[0;32mfrom\u001B[0m \u001B[0mcvxpy\u001B[0m\u001B[0;34m.\u001B[0m\u001B[0mreductions\u001B[0m\u001B[0;34m.\u001B[0m\u001B[0msolvers\u001B[0m\u001B[0;34m.\u001B[0m\u001B[0msolving_chain\u001B[0m \u001B[0;32mimport\u001B[0m \u001B[0mSolvingChain\u001B[0m\u001B[0;34m\u001B[0m\u001B[0;34m\u001B[0m\u001B[0m\n\u001B[0m",
      "\u001B[0;32m~/.local/lib/python3.9/site-packages/cvxpy-1.1.17-py3.9-linux-x86_64.egg/cvxpy/reductions/solvers/solving_chain.py\u001B[0m in \u001B[0;36m<module>\u001B[0;34m\u001B[0m\n\u001B[1;32m     19\u001B[0m \u001B[0;32mfrom\u001B[0m \u001B[0mcvxpy\u001B[0m\u001B[0;34m.\u001B[0m\u001B[0mreductions\u001B[0m\u001B[0;34m.\u001B[0m\u001B[0mqp2quad_form\u001B[0m \u001B[0;32mimport\u001B[0m \u001B[0mqp2symbolic_qp\u001B[0m\u001B[0;34m\u001B[0m\u001B[0;34m\u001B[0m\u001B[0m\n\u001B[1;32m     20\u001B[0m \u001B[0;32mfrom\u001B[0m \u001B[0mcvxpy\u001B[0m\u001B[0;34m.\u001B[0m\u001B[0mreductions\u001B[0m\u001B[0;34m.\u001B[0m\u001B[0mqp2quad_form\u001B[0m\u001B[0;34m.\u001B[0m\u001B[0mqp_matrix_stuffing\u001B[0m \u001B[0;32mimport\u001B[0m \u001B[0mQpMatrixStuffing\u001B[0m\u001B[0;34m\u001B[0m\u001B[0;34m\u001B[0m\u001B[0m\n\u001B[0;32m---> 21\u001B[0;31m \u001B[0;32mfrom\u001B[0m \u001B[0mcvxpy\u001B[0m\u001B[0;34m.\u001B[0m\u001B[0mreductions\u001B[0m\u001B[0;34m.\u001B[0m\u001B[0msolvers\u001B[0m \u001B[0;32mimport\u001B[0m \u001B[0mdefines\u001B[0m \u001B[0;32mas\u001B[0m \u001B[0mslv_def\u001B[0m\u001B[0;34m\u001B[0m\u001B[0;34m\u001B[0m\u001B[0m\n\u001B[0m\u001B[1;32m     22\u001B[0m \u001B[0;32mfrom\u001B[0m \u001B[0mcvxpy\u001B[0m\u001B[0;34m.\u001B[0m\u001B[0mreductions\u001B[0m\u001B[0;34m.\u001B[0m\u001B[0msolvers\u001B[0m\u001B[0;34m.\u001B[0m\u001B[0mconstant_solver\u001B[0m \u001B[0;32mimport\u001B[0m \u001B[0mConstantSolver\u001B[0m\u001B[0;34m\u001B[0m\u001B[0;34m\u001B[0m\u001B[0m\n\u001B[1;32m     23\u001B[0m \u001B[0;32mfrom\u001B[0m \u001B[0mcvxpy\u001B[0m\u001B[0;34m.\u001B[0m\u001B[0mreductions\u001B[0m\u001B[0;34m.\u001B[0m\u001B[0msolvers\u001B[0m\u001B[0;34m.\u001B[0m\u001B[0msolver\u001B[0m \u001B[0;32mimport\u001B[0m \u001B[0mSolver\u001B[0m\u001B[0;34m\u001B[0m\u001B[0;34m\u001B[0m\u001B[0m\n",
      "\u001B[0;32m~/.local/lib/python3.9/site-packages/cvxpy-1.1.17-py3.9-linux-x86_64.egg/cvxpy/reductions/solvers/defines.py\u001B[0m in \u001B[0;36m<module>\u001B[0;34m\u001B[0m\n\u001B[1;32m     96\u001B[0m \u001B[0;34m\u001B[0m\u001B[0m\n\u001B[1;32m     97\u001B[0m \u001B[0;34m\u001B[0m\u001B[0m\n\u001B[0;32m---> 98\u001B[0;31m \u001B[0mINSTALLED_SOLVERS\u001B[0m \u001B[0;34m=\u001B[0m \u001B[0minstalled_solvers\u001B[0m\u001B[0;34m(\u001B[0m\u001B[0;34m)\u001B[0m\u001B[0;34m\u001B[0m\u001B[0;34m\u001B[0m\u001B[0m\n\u001B[0m\u001B[1;32m     99\u001B[0m INSTALLED_CONIC_SOLVERS = [\n\u001B[1;32m    100\u001B[0m   slv for slv in INSTALLED_SOLVERS if slv in CONIC_SOLVERS]\n",
      "\u001B[0;32m~/.local/lib/python3.9/site-packages/cvxpy-1.1.17-py3.9-linux-x86_64.egg/cvxpy/reductions/solvers/defines.py\u001B[0m in \u001B[0;36minstalled_solvers\u001B[0;34m()\u001B[0m\n\u001B[1;32m     85\u001B[0m     \u001B[0;31m# Check conic solvers\u001B[0m\u001B[0;34m\u001B[0m\u001B[0;34m\u001B[0m\u001B[0m\n\u001B[1;32m     86\u001B[0m     \u001B[0;32mfor\u001B[0m \u001B[0mname\u001B[0m\u001B[0;34m,\u001B[0m \u001B[0msolver\u001B[0m \u001B[0;32min\u001B[0m \u001B[0mSOLVER_MAP_CONIC\u001B[0m\u001B[0;34m.\u001B[0m\u001B[0mitems\u001B[0m\u001B[0;34m(\u001B[0m\u001B[0;34m)\u001B[0m\u001B[0;34m:\u001B[0m\u001B[0;34m\u001B[0m\u001B[0;34m\u001B[0m\u001B[0m\n\u001B[0;32m---> 87\u001B[0;31m         \u001B[0;32mif\u001B[0m \u001B[0msolver\u001B[0m\u001B[0;34m.\u001B[0m\u001B[0mis_installed\u001B[0m\u001B[0;34m(\u001B[0m\u001B[0;34m)\u001B[0m\u001B[0;34m:\u001B[0m\u001B[0;34m\u001B[0m\u001B[0;34m\u001B[0m\u001B[0m\n\u001B[0m\u001B[1;32m     88\u001B[0m             \u001B[0minstalled\u001B[0m\u001B[0;34m.\u001B[0m\u001B[0mappend\u001B[0m\u001B[0;34m(\u001B[0m\u001B[0mname\u001B[0m\u001B[0;34m)\u001B[0m\u001B[0;34m\u001B[0m\u001B[0;34m\u001B[0m\u001B[0m\n\u001B[1;32m     89\u001B[0m     \u001B[0;31m# Check QP solvers\u001B[0m\u001B[0;34m\u001B[0m\u001B[0;34m\u001B[0m\u001B[0m\n",
      "\u001B[0;32m~/.local/lib/python3.9/site-packages/cvxpy-1.1.17-py3.9-linux-x86_64.egg/cvxpy/reductions/solvers/solver.py\u001B[0m in \u001B[0;36mis_installed\u001B[0;34m(self)\u001B[0m\n\u001B[1;32m     57\u001B[0m         \"\"\"\n\u001B[1;32m     58\u001B[0m         \u001B[0;32mtry\u001B[0m\u001B[0;34m:\u001B[0m\u001B[0;34m\u001B[0m\u001B[0;34m\u001B[0m\u001B[0m\n\u001B[0;32m---> 59\u001B[0;31m             \u001B[0mself\u001B[0m\u001B[0;34m.\u001B[0m\u001B[0mimport_solver\u001B[0m\u001B[0;34m(\u001B[0m\u001B[0;34m)\u001B[0m\u001B[0;34m\u001B[0m\u001B[0;34m\u001B[0m\u001B[0m\n\u001B[0m\u001B[1;32m     60\u001B[0m             \u001B[0;32mreturn\u001B[0m \u001B[0;32mTrue\u001B[0m\u001B[0;34m\u001B[0m\u001B[0;34m\u001B[0m\u001B[0m\n\u001B[1;32m     61\u001B[0m         \u001B[0;32mexcept\u001B[0m \u001B[0mModuleNotFoundError\u001B[0m\u001B[0;34m:\u001B[0m\u001B[0;34m\u001B[0m\u001B[0;34m\u001B[0m\u001B[0m\n",
      "\u001B[0;32m~/.local/lib/python3.9/site-packages/cvxpy-1.1.17-py3.9-linux-x86_64.egg/cvxpy/reductions/solvers/conic_solvers/ecos_conif.py\u001B[0m in \u001B[0;36mimport_solver\u001B[0;34m(self)\u001B[0m\n\u001B[1;32m     74\u001B[0m         \"\"\"Imports the solver.\n\u001B[1;32m     75\u001B[0m         \"\"\"\n\u001B[0;32m---> 76\u001B[0;31m         \u001B[0;32mimport\u001B[0m \u001B[0mecos\u001B[0m\u001B[0;34m\u001B[0m\u001B[0;34m\u001B[0m\u001B[0m\n\u001B[0m\u001B[1;32m     77\u001B[0m         \u001B[0mecos\u001B[0m  \u001B[0;31m# For flake8\u001B[0m\u001B[0;34m\u001B[0m\u001B[0;34m\u001B[0m\u001B[0m\n\u001B[1;32m     78\u001B[0m \u001B[0;34m\u001B[0m\u001B[0m\n",
      "\u001B[0;32m~/.local/lib/python3.9/site-packages/ecos-2.0.8-py3.9-linux-x86_64.egg/ecos/__init__.py\u001B[0m in \u001B[0;36m<module>\u001B[0;34m\u001B[0m\n\u001B[0;32m----> 1\u001B[0;31m \u001B[0;32mfrom\u001B[0m \u001B[0;34m.\u001B[0m\u001B[0mecos\u001B[0m \u001B[0;32mimport\u001B[0m \u001B[0msolve\u001B[0m\u001B[0;34m,\u001B[0m \u001B[0m__solver_version__\u001B[0m\u001B[0;34m\u001B[0m\u001B[0;34m\u001B[0m\u001B[0m\n\u001B[0m\u001B[1;32m      2\u001B[0m \u001B[0;32mfrom\u001B[0m \u001B[0;34m.\u001B[0m\u001B[0mversion\u001B[0m \u001B[0;32mimport\u001B[0m \u001B[0m__version__\u001B[0m\u001B[0;34m\u001B[0m\u001B[0;34m\u001B[0m\u001B[0m\n",
      "\u001B[0;32m~/.local/lib/python3.9/site-packages/ecos-2.0.8-py3.9-linux-x86_64.egg/ecos/ecos.py\u001B[0m in \u001B[0;36m<module>\u001B[0;34m\u001B[0m\n\u001B[0;32m----> 1\u001B[0;31m \u001B[0;32mimport\u001B[0m \u001B[0m_ecos\u001B[0m\u001B[0;34m\u001B[0m\u001B[0;34m\u001B[0m\u001B[0m\n\u001B[0m\u001B[1;32m      2\u001B[0m \u001B[0;32mfrom\u001B[0m \u001B[0mwarnings\u001B[0m \u001B[0;32mimport\u001B[0m \u001B[0mwarn\u001B[0m\u001B[0;34m\u001B[0m\u001B[0;34m\u001B[0m\u001B[0m\n\u001B[1;32m      3\u001B[0m \u001B[0;32mimport\u001B[0m \u001B[0mnumpy\u001B[0m \u001B[0;32mas\u001B[0m \u001B[0mnp\u001B[0m\u001B[0;34m\u001B[0m\u001B[0;34m\u001B[0m\u001B[0m\n\u001B[1;32m      4\u001B[0m \u001B[0;32mfrom\u001B[0m \u001B[0mscipy\u001B[0m \u001B[0;32mimport\u001B[0m \u001B[0msparse\u001B[0m\u001B[0;34m\u001B[0m\u001B[0;34m\u001B[0m\u001B[0m\n\u001B[1;32m      5\u001B[0m \u001B[0;34m\u001B[0m\u001B[0m\n",
      "\u001B[0;31mImportError\u001B[0m: numpy.core.multiarray failed to import"
     ]
    }
   ],
   "source": [
    "import numpy as np\n",
    "from DeepKnockoffs import KnockoffMachine\n",
    "from DeepKnockoffs import GaussianKnockoffs\n",
    "import data\n",
    "import parameters\n",
    "from data import load_IHDP_data"
   ],
   "metadata": {
    "collapsed": false,
    "pycharm": {
     "name": "#%%\n"
    }
   }
  },
  {
   "cell_type": "code",
   "execution_count": 2,
   "outputs": [
    {
     "ename": "NameError",
     "evalue": "name 'load_IHDP_data' is not defined",
     "output_type": "error",
     "traceback": [
      "\u001B[0;31m---------------------------------------------------------------------------\u001B[0m",
      "\u001B[0;31mNameError\u001B[0m                                 Traceback (most recent call last)",
      "\u001B[0;32m/tmp/ipykernel_20839/1833581861.py\u001B[0m in \u001B[0;36m<module>\u001B[0;34m\u001B[0m\n\u001B[1;32m      1\u001B[0m \u001B[0;31m#load IHDP data\u001B[0m\u001B[0;34m\u001B[0m\u001B[0;34m\u001B[0m\u001B[0m\n\u001B[0;32m----> 2\u001B[0;31m \u001B[0mdata_train\u001B[0m\u001B[0;34m,\u001B[0m \u001B[0mdata_test\u001B[0m \u001B[0;34m=\u001B[0m \u001B[0mload_IHDP_data\u001B[0m\u001B[0;34m(\u001B[0m\u001B[0mtype_a\u001B[0m\u001B[0;34m=\u001B[0m\u001B[0;32mTrue\u001B[0m\u001B[0;34m,\u001B[0m \u001B[0mi\u001B[0m\u001B[0;34m=\u001B[0m\u001B[0;36m0\u001B[0m\u001B[0;34m)\u001B[0m\u001B[0;34m\u001B[0m\u001B[0;34m\u001B[0m\u001B[0m\n\u001B[0m",
      "\u001B[0;31mNameError\u001B[0m: name 'load_IHDP_data' is not defined"
     ]
    }
   ],
   "source": [
    "#load IHDP data\n",
    "data_train, data_test = load_IHDP_data(type_a=True, i=0)"
   ],
   "metadata": {
    "collapsed": false,
    "pycharm": {
     "name": "#%%\n"
    }
   }
  },
  {
   "cell_type": "markdown",
   "metadata": {},
   "source": [
    "## Data generating model\n",
    "\n",
    "We model $X \\in \\mathbb{R}^p $ as a multivariate Student's-t distribution, with $p=100$ and the covariance matrix of an auto-regressive process of order one. The default correlation parameter for this distribution is $\\rho =0.5$ and the number of degrees of freedom $\\nu = 3$."
   ]
  },
  {
   "cell_type": "code",
   "execution_count": 2,
   "metadata": {},
   "outputs": [],
   "source": [
    "# Number of features\n",
    "p = 25\n",
    "\n",
    "# Load the built-in multivariate Student's-t model and its default parameters\n",
    "# The currently available built-in models are:\n",
    "# - gaussian : Multivariate Gaussian distribution\n",
    "# - gmm      : Gaussian mixture model\n",
    "# - mstudent : Multivariate Student's-t distribution\n",
    "# - sparse   : Multivariate sparse Gaussian distribution \n",
    "model = \"mstudent\"\n",
    "distribution_params = parameters.GetDistributionParams(model, p)\n",
    "\n",
    "# Initialize the data generator\n",
    "DataSampler = data.DataSampler(distribution_params)"
   ]
  },
  {
   "cell_type": "markdown",
   "metadata": {},
   "source": [
    "Let's sample $n=10000$ observations of $X$. This dataset will be used later to train a deep knockoff machine."
   ]
  },
  {
   "cell_type": "code",
   "execution_count": 4,
   "metadata": {},
   "outputs": [
    {
     "name": "stdout",
     "output_type": "stream",
     "text": [
      "Generated a training dataset of size: 600 x 25.\n"
     ]
    }
   ],
   "source": [
    "# Number of training examples\n",
    "n = 600\n",
    "\n",
    "# Sample training data\n",
    "X_train = DataSampler.sample(n)\n",
    "print(\"Generated a training dataset of size: %d x %d.\" %(X_train.shape))"
   ]
  },
  {
   "cell_type": "markdown",
   "metadata": {},
   "source": [
    "## Second-order knockoffs"
   ]
  },
  {
   "cell_type": "markdown",
   "metadata": {},
   "source": [
    "After computing the empirical covariance matrix of $X$ in the training dataset, we can initialize a generator of second-order knockoffs. The solution of the SDP determines the pairwise correlations between the original variables and the knockoffs produced by this algorithm."
   ]
  },
  {
   "cell_type": "code",
   "execution_count": 5,
   "metadata": {},
   "outputs": [
    {
     "name": "stdout",
     "output_type": "stream",
     "text": [
      "Average absolute pairwise correlation: 0.527.\n"
     ]
    }
   ],
   "source": [
    "# Compute the empirical covariance matrix of the training data\n",
    "SigmaHat = np.cov(X_train, rowvar=False)\n",
    "\n",
    "# Initialize generator of second-order knockoffs\n",
    "second_order = GaussianKnockoffs(SigmaHat, mu=np.mean(X_train,0), method=\"sdp\")\n",
    "\n",
    "# Measure pairwise second-order knockoff correlations \n",
    "corr_g = (np.diag(SigmaHat) - np.diag(second_order.Ds)) / np.diag(SigmaHat)\n",
    "\n",
    "print('Average absolute pairwise correlation: %.3f.' %(np.mean(np.abs(corr_g))))"
   ]
  },
  {
   "cell_type": "markdown",
   "metadata": {},
   "source": [
    "## Deep knockoff machine\n",
    "\n",
    "The default parameters of the machine are set below, as most appropriate for the specific built-in model considered.\n",
    "The figures in the paper were obtained by setting the number of epochs to 1000 and the learning rate to 0.001, while in order to reduce the runtime this notebook uses the values 100 and 0.01 respectively."
   ]
  },
  {
   "cell_type": "code",
   "execution_count": 6,
   "metadata": {},
   "outputs": [],
   "source": [
    "# Load the default hyperparameters for this model\n",
    "training_params = parameters.GetTrainingHyperParams(model)\n",
    "\n",
    "# Set the parameters for training deep knockoffs\n",
    "pars = dict()\n",
    "# Number of epochs\n",
    "pars['epochs'] = 100\n",
    "# Number of iterations over the full data per epoch\n",
    "pars['epoch_length'] = 100\n",
    "# Data type, either \"continuous\" or \"binary\"\n",
    "pars['family'] = \"continuous\"\n",
    "# Dimensions of the data\n",
    "pars['p'] = p\n",
    "# Size of the test set\n",
    "pars['test_size']  = 0\n",
    "# Batch size\n",
    "pars['batch_size'] = int(0.5*n)\n",
    "# Learning rate\n",
    "pars['lr'] = 0.01\n",
    "# When to decrease learning rate (unused when equal to number of epochs)\n",
    "pars['lr_milestones'] = [pars['epochs']]\n",
    "# Width of the network (number of layers is fixed to 6)\n",
    "pars['dim_h'] = int(10*p)\n",
    "# Penalty for the MMD distance\n",
    "pars['GAMMA'] = training_params['GAMMA']\n",
    "# Penalty encouraging second-order knockoffs\n",
    "pars['LAMBDA'] = training_params['LAMBDA']\n",
    "# Decorrelation penalty hyperparameter\n",
    "pars['DELTA'] = training_params['DELTA']\n",
    "# Target pairwise correlations between variables and knockoffs\n",
    "pars['target_corr'] = corr_g\n",
    "# Kernel widths for the MMD measure (uniform weights)\n",
    "pars['alphas'] = [1.,2.,4.,8.,16.,32.,64.,128.]"
   ]
  },
  {
   "cell_type": "markdown",
   "metadata": {},
   "source": [
    "The machine will be stored in the `tmp/` subdirectory for later use and continuously updated during training after each epoch."
   ]
  },
  {
   "cell_type": "code",
   "execution_count": 7,
   "metadata": {},
   "outputs": [],
   "source": [
    "# Where to store the machine\n",
    "checkpoint_name = \"tmp/\" + model\n",
    "\n",
    "# Where to print progress information\n",
    "logs_name = \"tmp/\" + model + \"_progress.txt\""
   ]
  },
  {
   "cell_type": "code",
   "execution_count": 8,
   "metadata": {},
   "outputs": [],
   "source": [
    "# Initialize the machine\n",
    "machine = KnockoffMachine(pars, checkpoint_name=checkpoint_name, logs_name=logs_name)"
   ]
  },
  {
   "cell_type": "markdown",
   "metadata": {},
   "source": [
    "Let's fit the machine to the training data. The value of the loss function on the training will be printed after each epoch, along with other diagnostics based on the MMD, the second moments and the pairwise correlations between variables and knockoffs."
   ]
  },
  {
   "cell_type": "code",
   "execution_count": 9,
   "metadata": {},
   "outputs": [
    {
     "name": "stdout",
     "output_type": "stream",
     "text": [
      "Fitting the knockoff machine...\n"
     ]
    },
    {
     "ename": "RuntimeError",
     "evalue": "CUDA error: out of memory",
     "output_type": "error",
     "traceback": [
      "\u001B[0;31m---------------------------------------------------------------------------\u001B[0m",
      "\u001B[0;31mRuntimeError\u001B[0m                              Traceback (most recent call last)",
      "\u001B[0;32m<ipython-input-9-d630fcbfa178>\u001B[0m in \u001B[0;36m<module>\u001B[0;34m\u001B[0m\n\u001B[1;32m      1\u001B[0m \u001B[0;31m# Train the machine\u001B[0m\u001B[0;34m\u001B[0m\u001B[0;34m\u001B[0m\u001B[0;34m\u001B[0m\u001B[0m\n\u001B[1;32m      2\u001B[0m \u001B[0mprint\u001B[0m\u001B[0;34m(\u001B[0m\u001B[0;34m\"Fitting the knockoff machine...\"\u001B[0m\u001B[0;34m)\u001B[0m\u001B[0;34m\u001B[0m\u001B[0;34m\u001B[0m\u001B[0m\n\u001B[0;32m----> 3\u001B[0;31m \u001B[0mmachine\u001B[0m\u001B[0;34m.\u001B[0m\u001B[0mtrain\u001B[0m\u001B[0;34m(\u001B[0m\u001B[0mX_train\u001B[0m\u001B[0;34m)\u001B[0m\u001B[0;34m\u001B[0m\u001B[0;34m\u001B[0m\u001B[0m\n\u001B[0m",
      "\u001B[0;32m~/.local/lib/python3.6/site-packages/DeepKnockoffs-0.1.0-py3.6.egg/DeepKnockoffs/machine.py\u001B[0m in \u001B[0;36mtrain\u001B[0;34m(self, X_in, resume)\u001B[0m\n\u001B[1;32m    401\u001B[0m         \u001B[0;31m# move data to GPU if available\u001B[0m\u001B[0;34m\u001B[0m\u001B[0;34m\u001B[0m\u001B[0;34m\u001B[0m\u001B[0m\n\u001B[1;32m    402\u001B[0m         \u001B[0;32mif\u001B[0m \u001B[0muse_cuda\u001B[0m\u001B[0;34m:\u001B[0m\u001B[0;34m\u001B[0m\u001B[0;34m\u001B[0m\u001B[0m\n\u001B[0;32m--> 403\u001B[0;31m             \u001B[0mself\u001B[0m\u001B[0;34m.\u001B[0m\u001B[0mSigmaHat\u001B[0m \u001B[0;34m=\u001B[0m \u001B[0mself\u001B[0m\u001B[0;34m.\u001B[0m\u001B[0mSigmaHat\u001B[0m\u001B[0;34m.\u001B[0m\u001B[0mcuda\u001B[0m\u001B[0;34m(\u001B[0m\u001B[0;34m)\u001B[0m\u001B[0;34m\u001B[0m\u001B[0;34m\u001B[0m\u001B[0m\n\u001B[0m\u001B[1;32m    404\u001B[0m             \u001B[0mself\u001B[0m\u001B[0;34m.\u001B[0m\u001B[0mMask\u001B[0m \u001B[0;34m=\u001B[0m \u001B[0mself\u001B[0m\u001B[0;34m.\u001B[0m\u001B[0mMask\u001B[0m\u001B[0;34m.\u001B[0m\u001B[0mcuda\u001B[0m\u001B[0;34m(\u001B[0m\u001B[0;34m)\u001B[0m\u001B[0;34m\u001B[0m\u001B[0;34m\u001B[0m\u001B[0m\n\u001B[1;32m    405\u001B[0m             \u001B[0mself\u001B[0m\u001B[0;34m.\u001B[0m\u001B[0mnet\u001B[0m \u001B[0;34m=\u001B[0m \u001B[0mself\u001B[0m\u001B[0;34m.\u001B[0m\u001B[0mnet\u001B[0m\u001B[0;34m.\u001B[0m\u001B[0mcuda\u001B[0m\u001B[0;34m(\u001B[0m\u001B[0;34m)\u001B[0m\u001B[0;34m\u001B[0m\u001B[0;34m\u001B[0m\u001B[0m\n",
      "\u001B[0;31mRuntimeError\u001B[0m: CUDA error: out of memory"
     ]
    }
   ],
   "source": [
    "# Train the machine\n",
    "print(\"Fitting the knockoff machine...\")\n",
    "machine.train(X_train)"
   ]
  },
  {
   "cell_type": "code",
   "execution_count": null,
   "outputs": [],
   "source": [],
   "metadata": {
    "collapsed": false,
    "pycharm": {
     "name": "#%%\n"
    }
   }
  }
 ],
 "metadata": {
  "kernelspec": {
   "name": "python3",
   "language": "python",
   "display_name": "Python 3 (ipykernel)"
  },
  "language_info": {
   "codemirror_mode": {
    "name": "ipython",
    "version": 3
   },
   "file_extension": ".py",
   "mimetype": "text/x-python",
   "name": "python",
   "nbconvert_exporter": "python",
   "pygments_lexer": "ipython3",
   "version": "3.6.5"
  }
 },
 "nbformat": 4,
 "nbformat_minor": 2
}